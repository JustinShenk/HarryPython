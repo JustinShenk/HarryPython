{
 "cells": [
  {
   "cell_type": "code",
   "execution_count": 1,
   "metadata": {
    "collapsed": false
   },
   "outputs": [
    {
     "name": "stdout",
     "output_type": "stream",
     "text": [
      "Mr Dursley proudly says, \"I'm very normal.\"\n",
      "Mrs Dursley proudly says, \"I'm very normal.\"\n"
     ]
    }
   ],
   "source": [
    "import sys\n",
    "sys.path.append('../')\n",
    "\n",
    "from Classes import Human, Setting\n",
    "from __future__ import print_function\n",
    "'''\n",
    "`boy.live()`: Chapter_1.\n",
    "Introduction to main characters.\n",
    "'''\n",
    "\n",
    "# Page 1, Paragraph 1\n",
    "# Introduce the Dursleys\n",
    "\n",
    "MrDursley = Human(name='Mr Dursley',sex='male')\n",
    "MrsDursley = Human(name='Mrs Dursley',sex='female')\n",
    "\n",
    "dursleys = [MrDursley,MrsDursley]\n",
    "\n",
    "for dursley in dursleys:\n",
    "    dursley.location = 'number four, Privet Drive'\n",
    "    dursley.say('I\\'m very normal.','proudly')"
   ]
  },
  {
   "cell_type": "code",
   "execution_count": 2,
   "metadata": {
    "collapsed": false
   },
   "outputs": [],
   "source": [
    "# Page 1, Paragraph 2\n",
    "# Introduce Dursleys, continued, and introduce Dudley\n",
    "\n",
    "MrDursley.job = 'Director of Grunnings, a drill maker'\n",
    "\n",
    "MrDursley.appearance.extend(['big','beefy','neckless'])\n",
    "\n",
    "MrDursley.possessions.append(['very large moustache'])\n",
    "\n",
    "MrsDursley.appearance.extend(['thin','blonde','long neck'])\n",
    "MrsDursley.activities.append(['spying on neighbors over the fence'])\n",
    "\n",
    "Dudley = Human(name='Dudley Dursley', sex='male', age='<12',appearance=['small'])\n",
    "for dursley in dursleys:\n",
    "    dursley.esteem('Dudley','There is no finer boy')"
   ]
  },
  {
   "cell_type": "code",
   "execution_count": 3,
   "metadata": {
    "collapsed": false
   },
   "outputs": [],
   "source": [
    "# Page 1, Paragraph 3\n",
    "# Introduce the Potters\n",
    "MrPotter = Human(sex='male')\n",
    "MrsPotter = Human(sex='female')\n",
    "potters = [MrPotter,MrsPotter]"
   ]
  },
  {
   "cell_type": "code",
   "execution_count": 4,
   "metadata": {
    "collapsed": false
   },
   "outputs": [],
   "source": [
    "for dursley in dursleys:\n",
    "    dursley.possessions.append('Everything needed to satisfy him/her')\n",
    "    dursley.emotions.append([('greatest fear','someone discovers the Potters')])"
   ]
  },
  {
   "cell_type": "code",
   "execution_count": 5,
   "metadata": {
    "collapsed": true
   },
   "outputs": [],
   "source": [
    "# TODO: Add mutual relationship function so they both \n",
    "# add sister attributes at the same time\n",
    "MrsPotter.relates('MrsDursley','sister')\n",
    "MrsDursley.activities.append('Pretend she doesn\\'nt have a sister')"
   ]
  },
  {
   "cell_type": "code",
   "execution_count": 6,
   "metadata": {
    "collapsed": false
   },
   "outputs": [],
   "source": [
    "for potter in potters:\n",
    "    potter.description.append('unDursleyish')"
   ]
  },
  {
   "cell_type": "code",
   "execution_count": 7,
   "metadata": {
    "collapsed": false
   },
   "outputs": [],
   "source": [
    "for dursley in dursleys:\n",
    "    dursley.emotion('anxious', 'of neighbors\\' response to seeing the Potters')\n",
    "\n",
    "SonOfPotters = Human(sex='male',age='<12')\n",
    "for potter in potters:\n",
    "    potter.relates('SonOfPotter','son')\n",
    "    \n",
    "for dursley in dursleys:\n",
    "    dursley.emotion('avoidance','Dudley mixing with SonOfPotters')\n",
    "    \n",
    "setting = Setting(weather = ['dull','grey'], day = 'Tuesday', location='Dursley\\'s Street', contains='cloudy sky')"
   ]
  },
  {
   "cell_type": "code",
   "execution_count": 11,
   "metadata": {
    "collapsed": false
   },
   "outputs": [
    {
     "ename": "AssertionError",
     "evalue": "MrDursley has no reason to expect the following.",
     "output_type": "error",
     "traceback": [
      "\u001b[0;31m---------------------------------------------------------------------------\u001b[0m",
      "\u001b[0;31mAssertionError\u001b[0m                            Traceback (most recent call last)",
      "\u001b[0;32m<ipython-input-11-8b9deffcec1e>\u001b[0m in \u001b[0;36m<module>\u001b[0;34m()\u001b[0m\n\u001b[1;32m      1\u001b[0m \u001b[0mreasonable_predictions\u001b[0m \u001b[0;34m=\u001b[0m \u001b[0;34m[\u001b[0m\u001b[0;34m]\u001b[0m\u001b[0;34m\u001b[0m\u001b[0m\n\u001b[1;32m      2\u001b[0m \u001b[0;34m\u001b[0m\u001b[0m\n\u001b[0;32m----> 3\u001b[0;31m \u001b[0;32massert\u001b[0m \u001b[0;34m'strange and mysterious things will soon be happening all over the country'\u001b[0m \u001b[0;32min\u001b[0m \u001b[0mreasonable_predictions\u001b[0m \u001b[0;32min\u001b[0m \u001b[0msetting\u001b[0m\u001b[0;34m.\u001b[0m\u001b[0mcontains\u001b[0m\u001b[0;34m,\u001b[0m \u001b[0;34m'MrDursley has no reason to expect the following.'\u001b[0m\u001b[0;34m\u001b[0m\u001b[0m\n\u001b[0m",
      "\u001b[0;31mAssertionError\u001b[0m: MrDursley has no reason to expect the following."
     ]
    }
   ],
   "source": [
    "reasonable_predictions = []\n",
    "\n",
    "assert 'strange and mysterious things will soon be happening all over the country' in reasonable_predictions in setting.contains, 'MrDursley has no reason to expect the following.'"
   ]
  }
 ],
 "metadata": {
  "anaconda-cloud": {},
  "kernelspec": {
   "display_name": "Python [conda env:cvloop]",
   "language": "python",
   "name": "conda-env-cvloop-py"
  },
  "language_info": {
   "codemirror_mode": {
    "name": "ipython",
    "version": 3
   },
   "file_extension": ".py",
   "mimetype": "text/x-python",
   "name": "python",
   "nbconvert_exporter": "python",
   "pygments_lexer": "ipython3",
   "version": "3.5.2"
  }
 },
 "nbformat": 4,
 "nbformat_minor": 2
}
