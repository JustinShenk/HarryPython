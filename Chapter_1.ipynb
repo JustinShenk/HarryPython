{
 "cells": [
  {
   "cell_type": "code",
   "execution_count": 54,
   "metadata": {
    "collapsed": false
   },
   "outputs": [
    {
     "name": "stdout",
     "output_type": "stream",
     "text": [
      "Mr Dursley proudly says, \"I'm very normal.\"\n",
      "Mrs Dursley proudly says, \"I'm very normal.\"\n"
     ]
    }
   ],
   "source": [
    "from __future__ import print_function\n",
    "from Classes import Human\n",
    "'''\n",
    "`boy.live()`: Chapter_1.\n",
    "Introduction to main characters.\n",
    "'''\n",
    "\n",
    "# Page 1, Paragraph 1\n",
    "# Introduce the Dursleys\n",
    "MrDursley = Human(name='Mr Dursley',sex='male')\n",
    "MrsDursley = Human(name='Mrs Dursley',sex='female')\n",
    "dursleys = [MrDursley,MrsDursley]\n",
    "for dursley in dursleys:\n",
    "    dursley.location = 'number four, Privet Drive'\n",
    "    dursley.say('I\\'m very normal.','proudly')\n",
    "\n",
    "# Page 1, Paragraph 2\n",
    "# Introduce Dursleys, continued, and introduce Dudley\n",
    "MrDursley.job = 'Director of Grunnings, a drill maker'\n",
    "MrDursley.appearance.extend(['big','beefy','neckless'])\n",
    "MrDursley.possessions.extend(['very large moustache'])\n",
    "\n",
    "MrsDursley.appearance.extend(['thin','blonde','long neck'])\n",
    "MrsDursley.activities.extend(['spying on neighbors over the fence'])\n",
    "\n",
    "Dudley = Human(name='Dudley Dursley', sex='male', age='<16',appearance=['small'])\n",
    "for dursley in dursleys:\n",
    "    dursley.esteem('Dudley','There is no finer boy')\n",
    "\n",
    "# Page 1, Paragraph 3\n",
    "for dursley in dursleys:\n",
    "    dursley.emotion('greatest fear','someone discovers the Potters')"
   ]
  },
  {
   "cell_type": "code",
   "execution_count": null,
   "metadata": {
    "collapsed": true
   },
   "outputs": [],
   "source": []
  }
 ],
 "metadata": {
  "kernelspec": {
   "display_name": "Python 2",
   "language": "python",
   "name": "python2"
  },
  "language_info": {
   "codemirror_mode": {
    "name": "ipython",
    "version": 2
   },
   "file_extension": ".py",
   "mimetype": "text/x-python",
   "name": "python",
   "nbconvert_exporter": "python",
   "pygments_lexer": "ipython2",
   "version": "2.7.13"
  }
 },
 "nbformat": 4,
 "nbformat_minor": 2
}
