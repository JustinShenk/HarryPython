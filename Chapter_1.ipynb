{
 "cells": [
  {
   "cell_type": "code",
   "execution_count": null,
   "metadata": {
    "collapsed": false
   },
   "outputs": [],
   "source": [
    "from Classes import Human, Setting\n",
    "'''\n",
    "`boy.live()`: Chapter_1.\n",
    "Introduction to main characters.\n",
    "'''\n",
    "\n",
    "# Page 1, Paragraph 1\n",
    "# Introduce the Dursleys\n",
    "\n",
    "# Instantiate the `Human` class with parameters `name` and `sex`\n",
    "MrDursley = Human(name='Mr Dursley',sex='male')\n",
    "MrsDursley = Human(name='Mrs Dursley',sex='female')\n",
    "\n",
    "# Make a list of the Dursley couple\n",
    "dursleys = [MrDursley,MrsDursley]\n",
    "\n",
    "# Iterate over the Dursley couple\n",
    "for dursley in dursleys:\n",
    "    # Assign their address to `location`\n",
    "    dursley.location = 'number four, Privet Drive'\n",
    "    # Call the `self.say()` method\n",
    "    dursley.say('I\\'m very normal.','proudly')"
   ]
  },
  {
   "cell_type": "code",
   "execution_count": null,
   "metadata": {
    "collapsed": false
   },
   "outputs": [],
   "source": [
    "# Page 1, Paragraph 2\n",
    "# Introduce Dursleys, continued, and introduce Dudley\n",
    "\n",
    "MrDursley.job = 'Director of Grunnings, a drill maker'\n",
    "\n",
    "# Add several items to the list with `extend`\n",
    "MrDursley.appearance.extend(['big','beefy','neckless'])\n",
    "\n",
    "# Add one item to the list with `append` (Note: `extend` also works)\n",
    "MrDursley.possessions.append(['very large moustache'])\n",
    "\n",
    "MrsDursley.appearance.extend(['thin','blonde','long neck'])\n",
    "MrsDursley.activities.append(['spying on neighbors over the fence'])\n",
    "\n",
    "Dudley = Human(name='Dudley Dursley', sex='male', age='<16',appearance=['small'])\n",
    "for dursley in dursleys:\n",
    "    # Call the self.esteem() method with parameters `target` and `value`\n",
    "    # Adds to the dictionary self.esteems by appending list\n",
    "    # `['There is no finer boy']` to self.esteems['Dudley']\n",
    "    dursley.esteem('Dudley','There is no finer boy')\n",
    "\n",
    "# Page 1, Paragraph 3\n",
    "# Introduce the Potters\n",
    "MrPotter = Human(sex='male')\n",
    "MrsPotter = Human(sex='female')\n",
    "potters = [MrPotter,MrsPotter]\n",
    "\n",
    "for dursley in dursleys:\n",
    "    dursley.possessions.append('Everything needed to satisfy him/her')\n",
    "    dursley.emotion('greatest fear','someone discovers the Potters')\n",
    "\n",
    "MrsPotter.relates('MrsDursley','sister')\n",
    "MrsDursley.activities.append('Pretend she doesn\\'nt have a sister')\n",
    "\n",
    "for potter in potters:\n",
    "    potter.description('unDursleyish')\n",
    "    \n",
    "for dursley in dursleys:\n",
    "    dursley.emotion('anxious of neighbors\\' response to seeing the Potters')\n",
    "\n",
    "SonOfPotters = Human(sex='male',age='<10')\n",
    "for potter in potters:\n",
    "    potter.relates('SonOfPotter','son')\n",
    "    \n",
    "for dursley in dursleys:\n",
    "    dursley.emotion('don\\'t want Dudley mixing with SonOfPotters')\n",
    "    \n",
    "setting = Setting(weather = ['dull','grey'], day = 'Tuesday', location='Dursley\\'s Street',contains='cloudy sky')\n",
    "\n",
    "assert('something to suggest that strange and mysterious things \\\n",
    "would soon be happening all over the country' in setting.contains)\n"
   ]
  }
 ],
 "metadata": {
  "anaconda-cloud": {},
  "kernelspec": {
   "display_name": "Python [conda root]",
   "language": "python",
   "name": "conda-root-py"
  },
  "language_info": {
   "codemirror_mode": {
    "name": "ipython",
    "version": 3
   },
   "file_extension": ".py",
   "mimetype": "text/x-python",
   "name": "python",
   "nbconvert_exporter": "python",
   "pygments_lexer": "ipython3",
   "version": "3.5.2"
  }
 },
 "nbformat": 4,
 "nbformat_minor": 2
}
